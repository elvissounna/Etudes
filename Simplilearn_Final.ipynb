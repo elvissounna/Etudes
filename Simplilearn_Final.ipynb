{
  "nbformat": 4,
  "nbformat_minor": 0,
  "metadata": {
    "colab": {
      "provenance": [],
      "authorship_tag": "ABX9TyPPWp9KAo+BpeEu9rEU+vqX",
      "include_colab_link": true
    },
    "kernelspec": {
      "name": "python3",
      "display_name": "Python 3"
    },
    "language_info": {
      "name": "python"
    }
  },
  "cells": [
    {
      "cell_type": "markdown",
      "metadata": {
        "id": "view-in-github",
        "colab_type": "text"
      },
      "source": [
        "<a href=\"https://colab.research.google.com/github/elvissounna/Etudes/blob/main/Simplilearn_Final.ipynb\" target=\"_parent\"><img src=\"https://colab.research.google.com/assets/colab-badge.svg\" alt=\"Open In Colab\"/></a>"
      ]
    },
    {
      "cell_type": "markdown",
      "source": [
        "**California Housing Price Prediction\n",
        "DESCRIPTION**\n",
        "\n",
        "Background of Problem Statement :\n",
        "\n",
        "The US Census Bureau has published California Census Data which has 10 types of metrics such as the population, median income, median housing price, and so on for each block group in California. The dataset also serves as an input for project scoping and tries to specify the functional and nonfunctional requirements for it.\n",
        "\n",
        "Problem Objective :\n",
        "\n",
        "The project aims at building a model of housing prices to predict median house values in California using the provided dataset. This model should learn from the data and be able to predict the median housing price in any district, given all the other metrics.\n",
        "\n",
        "Districts or block groups are the smallest geographical units for which the US Census Bureau\n",
        "publishes sample data (a block group typically has a population of 600 to 3,000 people). There are 20,640 districts in the project dataset.\n",
        "\n",
        "Domain: Finance and Housing\n",
        "\n",
        "Analysis Tasks to be performed:\n",
        "\n",
        "1. Build a model of housing prices to predict median house values in California using the provided dataset.\n",
        "\n",
        "2. Train the model to learn from the data to predict the median housing price in any district, given all the other metrics.\n",
        "\n",
        "3. Predict housing prices based on median_income and plot the regression chart for it.\n",
        "\n",
        "1. Load the data :\n",
        "\n",
        "Read the “housing.csv” file from the folder into the program.\n",
        "Print first few rows of this data.\n",
        "Extract input (X) and output (Y) data from the dataset.\n",
        "2. Handle missing values :\n",
        "\n",
        "Fill the missing values with the mean of the respective column.\n",
        "3. Encode categorical data :\n",
        "\n",
        "Convert categorical column in the dataset to numerical data.\n",
        "4. Split the dataset : \n",
        "\n",
        "Split the data into 80% training dataset and 20% test dataset.\n",
        "5. Standardize data :\n",
        "\n",
        "Standardize training and test datasets.\n",
        "6. Perform Linear Regression : \n",
        "\n",
        "Perform Linear Regression on training data.\n",
        "Predict output for test dataset using the fitted model.\n",
        "Print root mean squared error (RMSE) from Linear Regression.\n",
        "            [ HINT: Import mean_squared_error from sklearn.metrics ]\n",
        "\n",
        "7. Perform Decision Tree Regression :\n",
        "\n",
        "Perform Decision Tree Regression on training data.\n",
        "Predict output for test dataset using the fitted model.\n",
        "Print root mean squared error from Decision Tree Regression.\n",
        "8. Perform Random Forest Regression :\n",
        "\n",
        "Perform Random Forest Regression on training data.\n",
        "Predict output for test dataset using the fitted model.\n",
        "Print RMSE (root mean squared error) from Random Forest Regression.\n",
        "9. Bonus exercise: Perform Linear Regression with one independent variable :\n",
        "\n",
        "Extract just the median_income column from the independent variables (from X_train and X_test).\n",
        "Perform Linear Regression to predict housing values based on median_income.\n",
        "Predict output for test dataset using the fitted model.\n",
        "Plot the fitted model for training data as well as for test data to check if the fitted model satisfies the test data.\n",
        "Dataset Description :\n",
        "\n",
        "Field\tDescription\n",
        "longitude\t(signed numeric - float) : Longitude value for the block in California, USA\n",
        "latitude\t(numeric - float ) : Latitude value for the block in California, USA\n",
        "housing_median_age\t(numeric - int ) : Median age of the house in the block\n",
        "total_rooms\t(numeric - int ) : Count of the total number of rooms (excluding bedrooms) in all houses in the block\n",
        "total_bedrooms\t(numeric - float ) : Count of the total number of bedrooms in all houses in the block\n",
        "population\t(numeric - int ) : Count of the total number of population in the block\n",
        "households\t(numeric - int ) : Count of the total number of households in the block\n",
        "median_income\t(numeric - float ) : Median of the total household income of all the houses in the block\n",
        "ocean_proximity\t(numeric - categorical ) : Type of the landscape of the block [ Unique Values : 'NEAR BAY', '<1H OCEAN', 'INLAND', 'NEAR OCEAN', 'ISLAND'  ]\n",
        "median_house_value\t(numeric - int ) : Median of the household prices of all the houses in the block\n",
        " \n",
        "\n",
        "Dataset 1553768847_housing.csv : size 20640 rows x 10 columns"
      ],
      "metadata": {
        "id": "r0GeUr5CGuBg"
      }
    },
    {
      "cell_type": "code",
      "execution_count": null,
      "metadata": {
        "id": "DBnrUxYBGtXN"
      },
      "outputs": [],
      "source": []
    },
    {
      "cell_type": "code",
      "source": [],
      "metadata": {
        "id": "kevyteRqHYAs"
      },
      "execution_count": null,
      "outputs": []
    },
    {
      "cell_type": "code",
      "source": [],
      "metadata": {
        "id": "Sl1Fneu9HYN6"
      },
      "execution_count": null,
      "outputs": []
    },
    {
      "cell_type": "code",
      "source": [],
      "metadata": {
        "id": "GBuRAgSAHYW0"
      },
      "execution_count": null,
      "outputs": []
    },
    {
      "cell_type": "code",
      "source": [],
      "metadata": {
        "id": "TeBlm_YrHYZY"
      },
      "execution_count": null,
      "outputs": []
    },
    {
      "cell_type": "code",
      "source": [],
      "metadata": {
        "id": "581r_HZIHYc0"
      },
      "execution_count": null,
      "outputs": []
    },
    {
      "cell_type": "code",
      "source": [],
      "metadata": {
        "id": "v55KfXC1G_u7"
      },
      "execution_count": null,
      "outputs": []
    }
  ]
}